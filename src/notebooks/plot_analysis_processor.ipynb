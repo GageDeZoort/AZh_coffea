{
 "cells": [
  {
   "cell_type": "code",
   "execution_count": null,
   "id": "cef1d9e0",
   "metadata": {},
   "outputs": [],
   "source": [
    "%load_ext autoreload\n",
    "%autoreload 2\n",
    "\n",
    "import os\n",
    "import sys\n",
    "import time\n",
    "import argparse\n",
    "import warnings\n",
    "import logging\n",
    "from os.path import join\n",
    "from collections import defaultdict\n",
    "sys.path.append('../')\n",
    "warnings.filterwarnings(\"ignore\")\n",
    "\n",
    "from coffea import processor, util\n",
    "import hist\n",
    "import mplhep as hep\n",
    "import seaborn as sns\n",
    "from matplotlib import pyplot as plt\n",
    "from cycler import cycler\n",
    "from hist import Hist\n",
    "from hist.intervals import ratio_uncertainty\n",
    "from azh_analysis.utils.plotting import plot_data_vs_mc\n",
    "import warnings\n",
    "warnings.filterwarnings('ignore')\n",
    "#hep.style.use([\"CMS\", \"fira\", \"firamath\"])\n",
    "\n",
    "plot = True\n",
    "year = \"2018\"\n",
    "lumi = {\"2018\": 59.7}\n",
    "data = util.load(f\"../output/data_UL_{year}_OS.coffea\")\n",
    "mc = util.load(f\"../output/MC_UL_{year}_all_OS.coffea\")\n",
    "\n",
    "cat_labels = {\n",
    "    'tt': r'$ll\\tau_h\\tau_h$',\n",
    "    'et': r'$ll e\\tau_h$',\n",
    "    'mt': r'$ll\\mu\\tau_h$',\n",
    "    'em': r'$ll e\\mu$',\n",
    "}"
   ]
  },
  {
   "cell_type": "code",
   "execution_count": null,
   "id": "9a05323e",
   "metadata": {},
   "outputs": [],
   "source": [
    "var = \"mll\"\n",
    "for year in ['2018']:\n",
    "    outdir = f\"../plots/data-mc/{year}\"\n",
    "    for cat, cat_label in cat_labels.items():\n",
    "        for bcat in [0]:\n",
    "            # group, cat, btags, syst, :\n",
    "            mc_s = sum(mc[var].values())\n",
    "            mc_s = mc_s[:, 'ee'+cat, ::sum, \"nom\",  :] + mc_s[:, 'ee'+cat, ::sum, \"nom\",  :]\n",
    "            data_s = sum(data[var].values())\n",
    "            data_s = data_s[:, 'ee'+cat, 0, ::sum, \"none\", : ] + data_s[:, 'mm'+cat, 0, ::sum, \"none\", : ]\n",
    "            var_label = r\"$m_{\\tau\\tau}^\\mathrm{corr}$ [GeV]\" if mass_type==\"corr\" else r\"$m_{\\tau\\tau}^\\mathrm{cons}$ [GeV]\"\n",
    "            plot_data_vs_mc(\n",
    "                data_s, mc_s, \n",
    "                \"mll\", cat_label=cat_label, var_label=var_label,\n",
    "                outfile=join(outdir, f\"{cat}_{var}.pdf\") if plot else None,\n",
    "            )"
   ]
  },
  {
   "cell_type": "code",
   "execution_count": null,
   "id": "413f44de",
   "metadata": {},
   "outputs": [],
   "source": [
    "var = \"mtt\"\n",
    "for year in ['2018']:\n",
    "    outdir = f\"../plots/data-mc/{year}\"\n",
    "    for cat, cat_label in cat_labels.items():\n",
    "        for bcat in [0]:\n",
    "            for mass_type in [\"corr\", \"cons\"]:\n",
    "                # group, cat, btags, syst, mass_type, ::\n",
    "                mc_s = sum(mc[var].values())\n",
    "                mc_s = mc_s[:, 'ee'+cat, ::sum, \"nom\", mass_type,  :] + mc_s[:, 'ee'+cat, ::sum, \"nom\", mass_type,  :]\n",
    "                data_s = sum(data[var].values())\n",
    "                data_s = data_s[:, 'ee'+cat, 0, mass_type, ::sum, \"none\", : ] + data_s[:, 'mm'+cat, 0, mass_type, ::sum, \"none\", : ]\n",
    "                var_label = r\"$m_{\\tau\\tau}^\\mathrm{corr}$ [GeV]\" if mass_type==\"corr\" else r\"$m_{\\tau\\tau}^\\mathrm{cons}$ [GeV]\"\n",
    "                plot_data_vs_mc(\n",
    "                    data_s, mc_s, \n",
    "                    \"mass\", cat_label=cat_label, var_label=var_label,\n",
    "                    outfile=join(outdir, f\"{cat}_{var}.pdf\") if plot else None,\n",
    "                )"
   ]
  },
  {
   "cell_type": "code",
   "execution_count": null,
   "id": "f22fb1b6",
   "metadata": {},
   "outputs": [],
   "source": [
    "var = \"m4l\"\n",
    "for year in ['2018']:\n",
    "    outdir = f\"../plots/data-mc/{year}\"\n",
    "    for cat, cat_label in cat_labels.items():\n",
    "        for bcat in [0]:\n",
    "            for mass_type in [\"raw\", \"corr\", \"cons\"]:\n",
    "                mc_s = sum(mc[var].values())\n",
    "                mc_s = mc_s[:, 'ee'+cat, 0, mass_type, ::sum, \"nom\", :] + mc_s[:, 'mm'+cat, 0, mass_type, ::sum, \"nom\", :]\n",
    "                data_s = sum(data[var].values())\n",
    "                data_s = data_s[:, 'ee'+cat, 0, mass_type, ::sum, \"none\", : ] + data_s[:, 'mm'+cat, 0, mass_type, ::sum, \"none\", : ]\n",
    "                var_labels = {\n",
    "                    \"corr\": r\"$m_{ll\\tau\\tau}^\\mathrm{corr}$ [GeV]\",\n",
    "                    \"cons\": r\"$m_{ll\\tau\\tau}^\\mathrm{cons}$ [GeV]\",\n",
    "                    \"raw\": r\"$m_{ll\\tau\\tau}^\\mathrm{raw}$ [GeV]\",\n",
    "                }\n",
    "                plot_data_vs_mc(\n",
    "                    data_s, mc_s, \"mass\", \n",
    "                    cat_label=cat_label, var_label=var_labels[mass_type],\n",
    "                    outfile=join(outdir, f\"{cat}_{var}_{mass_type}.pdf\") if plot else None,\n",
    "                    logscale=True\n",
    "                )"
   ]
  },
  {
   "cell_type": "code",
   "execution_count": null,
   "id": "a5f9d2dd",
   "metadata": {},
   "outputs": [],
   "source": [
    "var = \"pt\"\n",
    "for year in ['2018']:\n",
    "    outdir = f\"../plots/data-mc/{year}\"\n",
    "    for cat, cat_label in cat_labels.items():\n",
    "        for bcat in [0]:\n",
    "            for leg in [\"1\", \"2\", \"3\", \"4\"]:\n",
    "                mc_s = sum(mc[var].values())\n",
    "                sign = 0\n",
    "                mc_s = mc_s[:, 'ee'+cat, sign, leg, ::sum, \"nom\", :] + mc_s[:, 'mm'+cat, sign, leg, ::sum, \"nom\", :]\n",
    "                data_s = sum(data[var].values())\n",
    "                data_s = data_s[:, 'ee'+cat, sign, leg, ::sum, \"none\", : ] + data_s[:, 'mm'+cat, sign, leg, ::sum, \"none\", : ]\n",
    "                var_label = f\"Leg {leg} \" + r\"$p_T$ [GeV]\"\n",
    "                plot_data_vs_mc(\n",
    "                    data_s, mc_s, \n",
    "                    \"pt\", cat_label=cat_label, var_label=var_label,\n",
    "                    outfile=join(outdir, f\"{cat}_{var}{leg}.pdf\") if plot else None,\n",
    "                )"
   ]
  },
  {
   "cell_type": "code",
   "execution_count": null,
   "id": "f4488b7e",
   "metadata": {},
   "outputs": [],
   "source": [
    "var = \"met\"\n",
    "for year in ['2018']:\n",
    "    outdir = f\"../plots/data-mc/{year}\"\n",
    "    for cat, cat_label in cat_labels.items():\n",
    "        for bcat in [0]:\n",
    "            mc_s = sum(mc[var].values())\n",
    "            mc_s = mc_s[:, 'ee'+cat, ::sum, ::sum, \"nom\", :] + mc_s[:, 'mm'+cat, ::sum, ::sum, \"nom\", :]\n",
    "            data_s = sum(data[var].values())\n",
    "            data_s = data_s[:, 'ee'+cat, ::sum, ::sum, \"none\", : ] + data_s[:, 'mm'+cat, ::sum, ::sum, \"none\", : ]\n",
    "            plot_data_vs_mc(\n",
    "                data_s, mc_s, \n",
    "                \"met\", cat_label=cat_label, var_label=r\"$E_T^\\mathrm{miss}$ [GeV]\",\n",
    "                outfile=join(outdir, f\"{cat}_{var}.pdf\") if plot else None,\n",
    ")"
   ]
  },
  {
   "cell_type": "code",
   "execution_count": null,
   "id": "c613d097",
   "metadata": {},
   "outputs": [],
   "source": []
  },
  {
   "cell_type": "markdown",
   "id": "1ac019bd",
   "metadata": {},
   "source": [
    "## Same-Sign Cross-Check"
   ]
  },
  {
   "cell_type": "code",
   "execution_count": null,
   "id": "3dd01504",
   "metadata": {},
   "outputs": [],
   "source": [
    "from collections import defaultdict\n",
    "import os\n",
    "import hist\n",
    "import mplhep as hep\n",
    "import seaborn as sns\n",
    "import pandas as pd\n",
    "from coffea import util\n",
    "from matplotlib import pyplot as plt\n",
    "from cycler import cycler\n",
    "from hist import Hist\n",
    "from hist.intervals import ratio_uncertainty\n",
    "from azh_analysis.utils.plotting import plot_var_fake_val\n",
    "import warnings\n",
    "warnings.filterwarnings('ignore')\n",
    "hep.style.use([\"CMS\", \"fira\", \"firamath\"])\n",
    "\n",
    "data = util.load(\"../data_UL_2018_SS_03-31.coffea\")\n",
    "print(sum(data[\"mll\"].values()))\n",
    "cat_labels = {\n",
    "    'tt': r'$ll\\tau_h\\tau_h$',\n",
    "    'et': r'$ll e\\tau_h$',\n",
    "    'mt': r'$ll\\mu\\tau_h$',\n",
    "    'em': r'$ll e\\mu$',\n",
    "}"
   ]
  },
  {
   "cell_type": "code",
   "execution_count": null,
   "id": "36e5f203",
   "metadata": {},
   "outputs": [],
   "source": [
    "var = \"m4l\"\n",
    "for year in ['2018']:\n",
    "    for cat, cat_label in cat_labels.items():\n",
    "        for bcat in [0]:\n",
    "            for mass_type in [\"raw\", \"corr\", \"cons\"]:\n",
    "                data_s = sum(data[var].values())\n",
    "                print(data_s)\n",
    "                data_s = data_s[:, \"ee\"+cat, 0, mass_type, ::sum, \"none\", : ] + data_s[:, \"mm\"+cat, 0, mass_type, ::sum, \"none\", : ]\n",
    "                var_labels = {\n",
    "                    \"corr\": r\"$m_{ll\\tau\\tau}^\\mathrm{corr}$ [GeV]\",\n",
    "                    \"cons\": r\"$m_{ll\\tau\\tau}^\\mathrm{cons}$ [GeV]\",\n",
    "                    \"raw\": r\"$m_{ll\\tau\\tau}^\\mathrm{raw}$ [GeV]\",\n",
    "                }\n",
    "                data_s, reducible_s = data_s[\"data\", :], data_s[\"reducible\", :]\n",
    "                plot_var_fake_val(\n",
    "                    data_s, reducible_s, \"mass\", cat_label=cat_label, var_label=var_labels[mass_type], \n",
    "                    xscale=\"log\",\n",
    "                )"
   ]
  },
  {
   "cell_type": "code",
   "execution_count": null,
   "id": "7ad13041",
   "metadata": {},
   "outputs": [],
   "source": []
  },
  {
   "cell_type": "code",
   "execution_count": null,
   "id": "dcb2514f",
   "metadata": {},
   "outputs": [],
   "source": []
  },
  {
   "cell_type": "code",
   "execution_count": null,
   "id": "0c2a277f",
   "metadata": {},
   "outputs": [],
   "source": [
    "from coffea import util\n",
    "f = util.load(\"../output/MC_UL_2018_None_OS_04-24.coffea\")[\"mll\"]\n",
    "f = sum([h for k, h in f.items()])"
   ]
  },
  {
   "cell_type": "code",
   "execution_count": null,
   "id": "11d10fae",
   "metadata": {},
   "outputs": [],
   "source": [
    "f"
   ]
  },
  {
   "cell_type": "code",
   "execution_count": null,
   "id": "265c3b36",
   "metadata": {},
   "outputs": [],
   "source": []
  }
 ],
 "metadata": {
  "kernelspec": {
   "display_name": "Python 3",
   "language": "python",
   "name": "python3"
  },
  "language_info": {
   "codemirror_mode": {
    "name": "ipython",
    "version": 3
   },
   "file_extension": ".py",
   "mimetype": "text/x-python",
   "name": "python",
   "nbconvert_exporter": "python",
   "pygments_lexer": "ipython3",
   "version": "3.8.16"
  }
 },
 "nbformat": 4,
 "nbformat_minor": 5
}
