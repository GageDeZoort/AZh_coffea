{
 "cells": [
  {
   "cell_type": "code",
   "execution_count": null,
   "id": "cef1d9e0",
   "metadata": {},
   "outputs": [],
   "source": [
    "%load_ext autoreload\n",
    "%autoreload 2\n",
    "\n",
    "import argparse\n",
    "import logging\n",
    "import time\n",
    "from os.path import join\n",
    "import sys\n",
    "sys.path.append('../')\n",
    "import warnings\n",
    "warnings.filterwarnings(\"ignore\")\n",
    "\n",
    "from coffea import processor, util"
   ]
  },
  {
   "cell_type": "code",
   "execution_count": null,
   "id": "4307f5ba",
   "metadata": {},
   "outputs": [],
   "source": [
    "from collections import defaultdict\n",
    "import os\n",
    "import hist\n",
    "import mplhep as hep\n",
    "import seaborn as sns\n",
    "from coffea import util\n",
    "from matplotlib import pyplot as plt\n",
    "from cycler import cycler\n",
    "from hist import Hist\n",
    "from hist.intervals import ratio_uncertainty\n",
    "from azh_analysis.utils.plotting import plot_variable\n",
    "import warnings\n",
    "warnings.filterwarnings('ignore')\n",
    "hep.style.use([\"CMS\", \"fira\", \"firamath\"])\n",
    "\n",
    "data = util.load(\"../data_UL_2018_02-14.coffea\")\n",
    "mc = util.load(\"../MC_UL_2018_02-14.coffea\")\n",
    "\n",
    "cat_labels = {\n",
    "    'tt': r'$ll\\tau_h\\tau_h$',\n",
    "    'et': r'$ll e\\tau_h$',\n",
    "    'mt': r'$ll\\mu\\tau_h$',\n",
    "    'em': r'$ll e\\mu$',\n",
    "}"
   ]
  },
  {
   "cell_type": "code",
   "execution_count": null,
   "id": "d04d39f9",
   "metadata": {},
   "outputs": [],
   "source": [
    "var = \"mll\"\n",
    "for year in ['2018']:\n",
    "    for cat, cat_label in cat_labels.items():\n",
    "        for bcat in [0]:\n",
    "            mc_s = sum(mc[var].values())\n",
    "            mc_s = mc_s[:, 'ee'+cat, ::sum, \"nom\", :] + mc_s[:, 'mm'+cat, ::sum, \"nom\", :]\n",
    "            data_s = sum(data[var].values())\n",
    "            data_s = data_s[:, 'ee'+cat, ::sum, \"none\", : ] + data_s[:, 'mm'+cat, ::sum, \"none\", : ]\n",
    "            plot_variable(data_s, mc_s, \"mll\", cat_label=cat_label, var_label=r\"$m_{ll}$\")"
   ]
  },
  {
   "cell_type": "code",
   "execution_count": null,
   "id": "413f44de",
   "metadata": {},
   "outputs": [],
   "source": [
    "var = \"mtt\"\n",
    "for year in ['2018']:\n",
    "    for cat, cat_label in cat_labels.items():\n",
    "        for bcat in [0]:\n",
    "            for mass_type in [\"corr\", \"cons\"]:\n",
    "                mc_s = sum(mc[var].values())\n",
    "                mc_s = mc_s[:, 'ee'+cat, mass_type, ::sum, \"nom\", :] + mc_s[:, 'mm'+cat, mass_type, ::sum, \"nom\", :]\n",
    "                data_s = sum(data[var].values())\n",
    "                data_s = data_s[:, 'ee'+cat, mass_type, ::sum, \"none\", : ] + data_s[:, 'mm'+cat, mass_type, ::sum, \"none\", : ]\n",
    "                var_label = r\"$m_{\\tau\\tau}^\\mathrm{corr}$ [GeV]\" if mass_type==\"corr\" else r\"$m_{\\tau\\tau}^\\mathrm{cons}$ [GeV]\"\n",
    "                plot_variable(data_s, mc_s, \"mass\", cat_label=cat_label, var_label=var_label)"
   ]
  },
  {
   "cell_type": "code",
   "execution_count": null,
   "id": "f22fb1b6",
   "metadata": {},
   "outputs": [],
   "source": [
    "var = \"m4l\"\n",
    "for year in ['2018']:\n",
    "    for cat, cat_label in cat_labels.items():\n",
    "        for bcat in [0]:\n",
    "            for mass_type in [\"raw\", \"corr\", \"cons\"]:\n",
    "                mc_s = sum(mc[var].values())\n",
    "                mc_s = mc_s[:, 'ee'+cat, mass_type, ::sum, \"nom\", :] + mc_s[:, 'mm'+cat, mass_type, ::sum, \"nom\", :]\n",
    "                data_s = sum(data[var].values())\n",
    "                data_s = data_s[:, 'ee'+cat, mass_type, ::sum, \"none\", : ] + data_s[:, 'mm'+cat, mass_type, ::sum, \"none\", : ]\n",
    "                var_labels = {\n",
    "                    \"corr\": r\"$m_{ll\\tau\\tau}^\\mathrm{corr}$ [GeV]\",\n",
    "                    \"cons\": r\"$m_{ll\\tau\\tau}^\\mathrm{cons}$ [GeV]\",\n",
    "                    \"raw\": r\"$m_{ll\\tau\\tau}^\\mathrm{raw}$ [GeV]\",\n",
    "                }\n",
    "                plot_variable(data_s, mc_s, \"mass\", cat_label=cat_label, var_label=var_labels[mass_type])"
   ]
  },
  {
   "cell_type": "code",
   "execution_count": null,
   "id": "a5f9d2dd",
   "metadata": {},
   "outputs": [],
   "source": [
    "# pt:  group, category, leg, btags, syst_shift, vals\n",
    "var = \"pt\"\n",
    "for year in ['2018']:\n",
    "    for cat, cat_label in cat_labels.items():\n",
    "        for bcat in [0]:\n",
    "            for leg in [\"1\", \"2\", \"3\", \"4\"]:\n",
    "                mc_s = sum(mc[var].values())\n",
    "                mc_s = mc_s[:, 'ee'+cat, leg, ::sum, \"nom\", :] + mc_s[:, 'mm'+cat, leg, ::sum, \"nom\", :]\n",
    "                data_s = sum(data[var].values())\n",
    "                data_s = data_s[:, 'ee'+cat, leg, ::sum, \"none\", : ] + data_s[:, 'mm'+cat, leg, ::sum, \"none\", : ]\n",
    "                var_label = f\"Leg {leg} \" + r\"$p_T$ [GeV]\"\n",
    "                plot_variable(data_s, mc_s, \"pt\", cat_label=cat_label, var_label=var_label)"
   ]
  },
  {
   "cell_type": "code",
   "execution_count": null,
   "id": "f4488b7e",
   "metadata": {},
   "outputs": [],
   "source": [
    "var = \"met\"\n",
    "for year in ['2018']:\n",
    "    for cat, cat_label in cat_labels.items():\n",
    "        for bcat in [0]:\n",
    "            mc_s = sum(mc[var].values())\n",
    "            mc_s = mc_s[:, 'ee'+cat, ::sum, \"nom\", :] + mc_s[:, 'mm'+cat, ::sum, \"nom\", :]\n",
    "            data_s = sum(data[var].values())\n",
    "            data_s = data_s[:, 'ee'+cat, ::sum, \"none\", : ] + data_s[:, 'mm'+cat, ::sum, \"none\", : ]\n",
    "            plot_variable(data_s, mc_s, \"met\", cat_label=cat_label, var_label=r\"$E_T^\\mathrm{miss}$ [GeV]\")"
   ]
  },
  {
   "cell_type": "code",
   "execution_count": null,
   "id": "c613d097",
   "metadata": {},
   "outputs": [],
   "source": []
  },
  {
   "cell_type": "code",
   "execution_count": null,
   "id": "74e8562b",
   "metadata": {},
   "outputs": [],
   "source": []
  },
  {
   "cell_type": "code",
   "execution_count": null,
   "id": "3dd01504",
   "metadata": {},
   "outputs": [],
   "source": []
  }
 ],
 "metadata": {
  "kernelspec": {
   "display_name": "Python 3",
   "language": "python",
   "name": "python3"
  },
  "language_info": {
   "codemirror_mode": {
    "name": "ipython",
    "version": 3
   },
   "file_extension": ".py",
   "mimetype": "text/x-python",
   "name": "python",
   "nbconvert_exporter": "python",
   "pygments_lexer": "ipython3",
   "version": "3.8.12"
  }
 },
 "nbformat": 4,
 "nbformat_minor": 5
}
