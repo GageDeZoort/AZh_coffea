{
 "cells": [
  {
   "cell_type": "markdown",
   "id": "8daef88c",
   "metadata": {},
   "source": [
    "# Preliminary Info\n",
    "Summarizes: \n",
    "https://link.springer.com/article/10.1140/epjc/s10052-021-09538-2\n",
    "https://twiki.cern.ch/twiki/pub/CMSPublic/WorkBookExercisesHATS_Pileup_2013/Pileup_Overview_HATS13.pdf\n",
    "\n",
    "Several main processes contribute to the total $pp$ cross section; non-diffractive ($pp\\rightarrow X$), elastic ($pp\\rightarrow pp$), and diffractive (single dissociation $pp\\rightarrow Xp$ or $pp\\rightarrow pY$, double dissociation $pp\\rightarrow XY$, or central dissociation $pp\\rightarrow pXp$). The inelastic cross section is everything except elastic scattering; pileup is produced by inelastic processes (minbias events). \n",
    "\n",
    "In MC, the instantaneous luminosity for an event is sampled to give a mean number of interactions in each beam crossing. This number of interactions is used as a Poisson mean. The observed pileup takes these Poisson fluctuations into account. \n",
    "\n",
    "The bunch-bunch collision luminosity is measured by the van der Meer metod. The instantaneous luminosity for a bunch pair collision is $\\mathcal{L}_b=\\frac{f n_1 n_2}{A_\\mathrm{eff}}$ where $A_\\mathrm{eff}$ counts the effective overlap area between the bunches. Given density functions for the bunches, $A_\\mathrm{eff}$ is the integral,\n",
    "\n",
    "$$A_\\mathrm{eff}^{-1} = \\int\\int\\rho_1(x, y)\\rho_2(x,y)dxdy$$\n",
    "\n",
    "Here $\\rho_1(x,y)$ and $\\rho_2(x,y)$ are normalized density distributions in the transverse plane. Assuming Gaussian-distributed bunches with equal widths and heights, this integral factorizes:\n",
    "\n",
    "$$\\mathcal{L}_b = \\frac{fn_1n_2}{4\\pi\\sigma_x\\sigma_y}$$\n",
    "\n",
    "Assuming Gaussian beams displaced by some relative $w$ or $h$ in the $x$ or $y$ direction, the beams have new effective widths $\\Sigma_i = \\sqrt{2}\\sigma_i$, giving\n",
    "\n",
    "$$\\mathcal{L}_b = \\frac{fn_1n_2}{2\\pi \\Sigma_x \\Sigma_y}$$\n",
    "\n",
    "To recover the LHC instantaneous luminosity, we simply mulitply by $n_\\mathrm{bunches}$, which accounts for the fact that for each revolution, every bunch will be crossed. \n",
    "\n",
    "$$\\mathcal{L} = n_\\mathrm{bunches}\\times\\frac{fn_1n_2}{2\\pi \\Sigma_x \\Sigma_y}$$\n",
    "\n",
    "The inelastic rate is $R_\\mathrm{inel}=\\mathcal{L}\\sigma_\\mathrm{inel}$.\n",
    "\n",
    "To perform a measurement, the luminosity is extracted from the visible inelastic collision rate. Given an agreed-upon $\\sigma_\\mathrm{inel}=69.2mb$, one can extract the average pileup $\\mu$. \n",
    "\n",
    "Summarizes: https://twiki.cern.ch/twiki/bin/viewauth/CMS/PileupJSONFileforData\n",
    "\n",
    "Given an instantaneous luminosity $\\mathcal{L}^i$ in a single bunch, the pileup in the bunch crossing is $\\mu = (\\mathcal{L}^i/f)\\sigma_\\mathrm{inel}$, where $f=11246$ Hz is the LHC orbit frequency. This gives the per-collision luminosity, $\\mathcal{L}=\\mathcal{L}^i/f$. Lumi-sections are defined to be $\\approx 23.3$ seconds, and often people quote $\\mu=(\\mathcal{L}\\times 23.3s)\\sigma_\\mathrm{inel}$. This is a pileup *average*, so we take it to be the mean of true Poissson pileup distribution. \n",
    "\n",
    "This lumi-based estimation can be compared with the number of PVs reconstructed in the event, which is subject to a $70\\%$ reconstruction efficiency. \n",
    "\n",
    "The pileupCalc tool extracts the pileup distributions relevant for an analysis. For Run 2, the minimum bias cross section is taken be $69200\\mu b$ with an uncertainty of $4.6\\%$. \n",
    "\n",
    "The pileup reweighting histograms are provided here:\n",
    "\n",
    "2018: /afs/cern.ch/cms/CAF/CMSCOMM/COMM_DQM/certification/Collisions18/13TeV/PileUp/UltraLegacy/\n",
    "2017: /afs/cern.ch/cms/CAF/CMSCOMM/COMM_DQM/certification/Collisions17/13TeV/PileUp/UltraLegacy/\n",
    "2016: /afs/cern.ch/cms/CAF/CMSCOMM/COMM_DQM/certification/Collisions16/13TeV/PileUp/UltraLegacy/\n",
    "\n",
    "\n",
    "Pileup events in MC are generated from \"true\" pileup values, which are Poisson means (`numTrueInteractions`). The provided pileup histograms contain one entry per lumisection, the average pileup for the lumisection, as calculated by $\\mu=(\\mathcal{L}^i\\times 23.3s)\\sigma_\\mathrm{inel}$. This is exactly the mean expected from MC. \n"
   ]
  },
  {
   "cell_type": "markdown",
   "id": "78fb9b20",
   "metadata": {},
   "source": [
    "## Pileup Reweighting\n",
    "Summarizes: https://twiki.cern.ch/twiki/pub/CMSPublic/WorkBookExercisesHATS_Pileup_2013/Pileup_Overview_HATS13.pdf\n",
    "\n",
    "MC events are pileup reweighted to account for differences between data and MC. The ratio of (target/input) is used to derive weights. The data pileup distribution is calculated from the bunch-by bunch luminosities. These measurements give the mean number of interactions per bunch crossing. The actual observation is a Poisson distribution for each bunch crossing. This is very important. "
   ]
  },
  {
   "cell_type": "code",
   "execution_count": null,
   "id": "28475c6b",
   "metadata": {},
   "outputs": [],
   "source": [
    "%load_ext autoreload\n",
    "%autoreload 2\n",
    "\n",
    "from collections import defaultdict\n",
    "import os\n",
    "import sys\n",
    "sys.path.append('../')\n",
    "import hist\n",
    "import mplhep as hep\n",
    "import seaborn as sns\n",
    "import numpy as np\n",
    "from coffea import util\n",
    "import uproot\n",
    "from matplotlib import pyplot as plt\n",
    "from cycler import cycler\n",
    "from hist import Hist\n",
    "from hist.intervals import ratio_uncertainty\n",
    "#from azh_analysis.utils.plotting import plot_variable\n",
    "import warnings\n",
    "warnings.filterwarnings('ignore')\n",
    "hep.style.use([\"CMS\", \"fira\", \"firamath\"])"
   ]
  },
  {
   "cell_type": "code",
   "execution_count": null,
   "id": "5909776d",
   "metadata": {},
   "outputs": [],
   "source": [
    "from azh_analysis.utils.pileup import open_pileup_file\n",
    "from hist.intervals import ratio_uncertainty\n",
    "samples = ['DY1JetsToLLM-50_2018', 'DY2JetsToLLM-50_2018', 'DY3JetsToLLM-50_2018', 'DY4JetsToLLM-50_2018', 'DYJetsToLLM-50_2018', 'DYJetsToLLM-50_ext1_2018', 'GluGluToContinToZZTo2e2mu_2018', 'GluGluToContinToZZTo2e2tau_2018', 'GluGluToContinToZZTo2mu2tau_2018', 'GluGluToContinToZZTo4e_2018', 'GluGluToContinToZZTo4mu_2018', 'GluGluToContinToZZTo4tau_2018', 'GluGluZHHToWW_2018', 'HWminusJHToWW_2018', 'HWplusJHToWWTo2L2Nu_2018', 'HZJHToWW_2018', 'TTTo2L2Nu_2018', 'TTToHadronic_2018', 'TTToSemiLeptonic_2018', 'TTWJetsToLNu_2018', 'VBFHToTauTauM125_2018', 'VBFHToWWTo2L2NuM-125_2018', 'WWW4F_2018', 'WWW4F_ext1_2018', 'WWZ4F_2018', 'WZTo2Q2Lmllmin4p0_2018', 'WZTo3LNu_2018', 'WZZTuneCP5_ext1_2018', 'WZZ_2018', 'WminusHToTauTauM125_2018', 'WplusHToTauTauM125_2018', 'ZHToTauTauM125_ext1_2018', 'ZZTo2Q2Lmllmin4p0_2018', 'ZZTo4L_2018', 'ZZZTuneCP5_ext1_2018', 'ZZZ_2018', 'ttHToTauTauM125_2018', 'ttZJets_2018']\n",
    "\n",
    "# load up MC\n",
    "mc_pu = util.load(\"../corrections/pileup/UL_2018/MC_UL_2018_PU.coffea\")[\"pileup_mc\"]\n",
    "mc_pu = sum([mc_pu[d, :].to_hist() for d in samples])\n",
    "mc_pu, mc_bins = mc_pu[::sum,:].values(), mc_pu[::sum,:].axes['pileup'].centers\n",
    "mc_pu = (mc_pu / np.sum(mc_pu))[:-1]\n",
    "mc_bins = mc_bins[:-1]\n",
    "print(mc_bins)\n",
    "\n",
    "# draw data\n",
    "indir = '../corrections/pileup/UL_2018'\n",
    "data_pu, bins = open_pileup_file(year=\"2018\", indir=\"../corrections/pileup\")\n",
    "data_bins = (bins[1:] + bins[:-1])/2.\n",
    "data_pu = data_pu / np.sum(data_pu)\n",
    "\n",
    "# build figure\n",
    "fig, (ax, rax) = plt.subplots(nrows=2, ncols=1, figsize=(10, 12), dpi=80,\n",
    "                              gridspec_kw={\"height_ratios\": (4, 1)}, sharex=True)\n",
    "fig.subplots_adjust(hspace=.07)\n",
    "ax.set_prop_cycle(cycler(color=['#EE9B00','#005F73']))\n",
    "\n",
    "# avoid off-by-one error\n",
    "ax.plot(mc_bins+1, mc_pu, marker='.', label=\"MC\")\n",
    "ax.plot(data_bins, data_pu, marker='.', \n",
    "        label=\"Data (69.2mb)\")\n",
    "\n",
    "bins = mc_bins\n",
    "weights = data_pu/mc_pu\n",
    "rax.errorbar(\n",
    "    x=mc_bins,\n",
    "    y=weights,\n",
    "    yerr=ratio_uncertainty(data_pu, mc_pu, \"poisson-ratio\"),\n",
    "    color=\"k\",\n",
    "    linestyle=\"none\",\n",
    "    marker=\"o\",\n",
    "    elinewidth=1.25,\n",
    "    capsize=2,\n",
    ")\n",
    "\n",
    "rax.set_xlabel(r\"$\\langle \\mu \\rangle$\")\n",
    "ax.set_ylabel('Density')\n",
    "rax.set_ylabel(\"Pileup Weight\")\n",
    "ax.legend(loc=\"best\", prop={'size': 16}, frameon=True)\n",
    "rax.set_ylim([0, 2])\n",
    "hep.cms.label('Preliminary', data=True, lumi=59.7, year=2018, ax=ax)\n",
    "plt.tight_layout()\n",
    "plt.show()"
   ]
  },
  {
   "cell_type": "code",
   "execution_count": null,
   "id": "b113f2c3",
   "metadata": {},
   "outputs": [],
   "source": [
    "from azh_analysis.utils.corrections import get_pileup_weights\n",
    "pu_evaluator = get_pileup_weights(\"../corrections/pileup/\", year=\"2017\")\n",
    "pu_evaluator"
   ]
  },
  {
   "cell_type": "code",
   "execution_count": null,
   "id": "9d95c5e1",
   "metadata": {},
   "outputs": [],
   "source": [
    "from azh_analysis.utils.pileup import make_pileup_weights_file\n",
    "make_pileup_weights_file(\"../corrections/pileup\", \"2016preVFP\")"
   ]
  },
  {
   "cell_type": "code",
   "execution_count": null,
   "id": "8d3a9e20",
   "metadata": {},
   "outputs": [],
   "source": [
    "from azh_analysis.utils.corrections import get_pileup_weights\n",
    "d = get_pileup_weights(\"../corrections/pileup/\", \"2016preVFP\")"
   ]
  },
  {
   "cell_type": "code",
   "execution_count": null,
   "id": "bc1df8c9",
   "metadata": {},
   "outputs": [],
   "source": [
    "d[\"nom\"](30)"
   ]
  },
  {
   "cell_type": "code",
   "execution_count": null,
   "id": "acc86bd6",
   "metadata": {},
   "outputs": [],
   "source": [
    "from coffea import analysis_tools\n",
    "from coffea.nanoevents import NanoEventsFactory, NanoAODSchema\n",
    "base = '/eos/uscms/store/group/lpcsusyhiggs/ntuples/AZh/nAODv9/2018/DY4JetsToLLM-50'\n",
    "file = os.path.join(base, 'all_DY4JetsToLLM-50_file001_part_1of3_Electrons.root')\n",
    "events = NanoEventsFactory.from_root(file, schemaclass=NanoAODSchema).events()\n",
    "weights = analysis_tools.Weights(len(events), storeIndividual=True)\n",
    "weights.add(\"sample\", np.ones(len(events)))\n",
    "weights.add(\"sample2\", 0.5*np.ones(len(events)))\n",
    "weights.add(\n",
    "    \"pileup\", \n",
    "    weight=d[\"nom\"](events.Pileup.nTrueInt),\n",
    "    weightUp=d[\"up\"](events.Pileup.nTrueInt),\n",
    "    weightDown=d[\"down\"](events.Pileup.nTrueInt),\n",
    ")\n",
    "weights.add(\n",
    "    \"l1prefire\", \n",
    "    weight=0.5*events.L1PreFiringWeight.Nom,\n",
    "    weightUp=events.L1PreFiringWeight.Up,\n",
    "    weightDown=events.L1PreFiringWeight.Dn,\n",
    ")"
   ]
  },
  {
   "cell_type": "code",
   "execution_count": null,
   "id": "244fd2f1",
   "metadata": {},
   "outputs": [],
   "source": [
    "print(weights.partial_weight(include=[\"l1prefire\"]))\n",
    "print(weights.partial_weight(include=[\"pileup\"]))\n",
    "print(weights.partial_weight(include=[\"sample2\"]))"
   ]
  },
  {
   "cell_type": "code",
   "execution_count": null,
   "id": "3779e1ae",
   "metadata": {},
   "outputs": [],
   "source": [
    "print(weights.weight())\n",
    "print(weights.partial_weight(include=['sample2', \"pileup\", \"l1prefire\"]))"
   ]
  },
  {
   "cell_type": "code",
   "execution_count": null,
   "id": "11d88510",
   "metadata": {},
   "outputs": [],
   "source": [
    "mask = np.random.rand(len(events)) > 0.5\n",
    "weights[mask]"
   ]
  },
  {
   "cell_type": "code",
   "execution_count": null,
   "id": "a55be35c",
   "metadata": {},
   "outputs": [],
   "source": [
    "weights.weight(modifier=\"pileupDown\")"
   ]
  },
  {
   "cell_type": "code",
   "execution_count": null,
   "id": "e34f242c",
   "metadata": {},
   "outputs": [],
   "source": [
    "events.L1PreFiringWeight.Up[events.L1PreFiringWeight.Nom<1]"
   ]
  },
  {
   "cell_type": "code",
   "execution_count": null,
   "id": "72a1b30f",
   "metadata": {},
   "outputs": [],
   "source": []
  }
 ],
 "metadata": {
  "kernelspec": {
   "display_name": "Python 3",
   "language": "python",
   "name": "python3"
  },
  "language_info": {
   "codemirror_mode": {
    "name": "ipython",
    "version": 3
   },
   "file_extension": ".py",
   "mimetype": "text/x-python",
   "name": "python",
   "nbconvert_exporter": "python",
   "pygments_lexer": "ipython3",
   "version": "3.8.16"
  }
 },
 "nbformat": 4,
 "nbformat_minor": 5
}
