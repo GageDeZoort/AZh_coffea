{
 "cells": [
  {
   "cell_type": "code",
   "execution_count": null,
   "id": "3992cda8",
   "metadata": {},
   "outputs": [],
   "source": [
    "%load_ext autoreload\n",
    "%autoreload 2\n",
    "\n",
    "import os\n",
    "import sys\n",
    "from os.path import join\n",
    "from collections import defaultdict\n",
    "import warnings\n",
    "warnings.filterwarnings('ignore')\n",
    "\n",
    "import uproot\n",
    "import hist\n",
    "import mplhep as hep\n",
    "import seaborn as sns\n",
    "from coffea import util\n",
    "import numpy as np\n",
    "from matplotlib import pyplot as plt\n",
    "from cycler import cycler\n",
    "from hist import Hist\n",
    "from hist.intervals import ratio_uncertainty\n",
    "\n",
    "sys.path.append(\"../\")\n",
    "from azh_analysis.utils.plotting import (\n",
    "    get_category_labels, get_color_list, get_category_labels\n",
    ")\n",
    "from azh_analysis.utils.parameters import (\n",
    "    get_lumis, get_categories, \n",
    ")\n",
    "\n",
    "year, btag = \"all\", \"ggA\""
   ]
  },
  {
   "cell_type": "code",
   "execution_count": null,
   "id": "af01231d",
   "metadata": {},
   "outputs": [],
   "source": [
    "uproot.open(\"/eos/uscms/store/group/lpcsusyhiggs/ntuples/AZh/nAODv9/2016/SingleElectron_Run2016Bv2_preVFP/all_SingleElectron_Run2016Bv2_preVFP_file092_part_1of3_Electrons.root\").keys()"
   ]
  },
  {
   "cell_type": "code",
   "execution_count": null,
   "id": "719c87bd",
   "metadata": {},
   "outputs": [],
   "source": [
    "hep.style.use([\"CMS\", \"fira\", \"firamath\"])\n",
    "colors = {\n",
    "    \"DY\": \"#0A9396\",\n",
    "    \"SM-H(125)\": \"#E9D8A6\",\n",
    "    \"ZZ\": \"#94D2BD\",\n",
    "    \"WZ\": \"#9b2226\",\n",
    "    \"tt\": \"#EE9B00\",\n",
    "    \"VVV\": \"#bb3e03\",\n",
    "}\n",
    "combine_dir = \"/uscms/home/jdezoort/nobackup/combine/CMSSW_11_3_4/src\"\n",
    "masses = np.array([225, 250, 275, 300, 325, 350, 375, 400, 450, 500, 600, 700, 750, 800, 900, 1000, 1200, 1400, 1600, 1800, 2000])\n",
    "limits = defaultdict(list)\n",
    "for mass in masses:\n",
    "    rootfile = uproot.open(\n",
    "        join(combine_dir, f\"higgsCombine.{year}_{btag}.AsymptoticLimits.mH\"+str(mass)+\".root\")\n",
    "    )\n",
    "    try:\n",
    "        limit = rootfile[\"limit\"].arrays()[\"limit\"]\n",
    "    except: \n",
    "        continue\n",
    "    print(limit)\n",
    "    if len(limit)<5: continue\n",
    "    limits[\"mass\"].append(mass)\n",
    "    limits[\"down_2s\"].append(limit[0])\n",
    "    limits[\"down_1s\"].append(limit[1])\n",
    "    limits[\"expected\"].append(limit[2])\n",
    "    limits[\"up_1s\"].append(limit[3])\n",
    "    limits[\"up_2s\"].append(limit[4])\n",
    "\n",
    "#limit_exp = abs(masses - 1100)/1000.\n",
    "#limit_obs = limit_exp + 0.1*(np.random.rand()-0.5)\n",
    "#limit_1s = 0.05*limit_exp\n",
    "#limit_2s = 0.1*limit_exp\n",
    "#x = np.arange(len(limit_exp))\n",
    "\n",
    "fig, ax = plt.subplots(dpi=120, figsize=(8,8))\n",
    "ax.fill_between(limits[\"mass\"], limits[\"down_2s\"], limits[\"up_2s\"], color='#ffff01', label=\"95% Expected\")\n",
    "ax.fill_between(limits[\"mass\"], limits[\"down_1s\"], limits[\"up_1s\"], color='#00ff01', label=\"68% Expected\")\n",
    "ax.plot(limits[\"mass\"], limits[\"expected\"], linestyle=\"--\", color=\"black\", label=\"Median Expected\")\n",
    "#ax.plot(limit_obs, \"k-\", lw=2.5, label=\"Observed\")\n",
    "ax.set_xlabel(r\"$m_A$ [GeV]\")\n",
    "ax.set_ylabel(r\"$\\sigma$\"+f\"({btag})\"+r\"$\\times\\mathrm{BR}(A\\rightarrow Zh\\rightarrow ll\\tau\\tau)$ [fb]\")\n",
    "ax.set_xlim([225, 2000])\n",
    "hep.cms.label(\"Preliminary\", data=True, lumi=59.8+41.5+16.8, year=\"\", ax=ax, fontsize=20)\n",
    "plt.legend(loc=\"best\", fontsize=15)\n",
    "plt.tight_layout()\n",
    "plt.show()"
   ]
  },
  {
   "cell_type": "code",
   "execution_count": null,
   "id": "2ebc4835",
   "metadata": {},
   "outputs": [],
   "source": []
  },
  {
   "cell_type": "code",
   "execution_count": null,
   "id": "aa21eadb",
   "metadata": {},
   "outputs": [],
   "source": []
  }
 ],
 "metadata": {
  "kernelspec": {
   "display_name": "Python 3",
   "language": "python",
   "name": "python3"
  },
  "language_info": {
   "codemirror_mode": {
    "name": "ipython",
    "version": 3
   },
   "file_extension": ".py",
   "mimetype": "text/x-python",
   "name": "python",
   "nbconvert_exporter": "python",
   "pygments_lexer": "ipython3",
   "version": "3.8.16"
  }
 },
 "nbformat": 4,
 "nbformat_minor": 5
}
