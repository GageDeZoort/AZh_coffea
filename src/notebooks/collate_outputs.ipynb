{
 "cells": [
  {
   "cell_type": "code",
   "execution_count": null,
   "id": "43ee7ccb",
   "metadata": {},
   "outputs": [],
   "source": [
    "import os\n",
    "from os.path import join\n",
    "from coffea import util\n",
    "\n",
    "year = \"2018\"\n",
    "sample = f\"GluGluToAToZhToLLTauTauM225\"\n",
    "sample_str = f\"{sample}_{year}\"\n",
    "base = \"/eos/uscms/store/user/jdezoort/azh_output/results\"\n",
    "sample_dir = join(base, f\"{year}/{sample_str}/coffea/\")\n",
    "sample_files = os.listdir(sample_dir)\n",
    "\n",
    "h0 = util.load(join(sample_dir, sample_files[0]))['m4l'][sample]\n",
    "h1 = util.load(join(sample_dir, sample_files[1]))['m4l'][sample]\n",
    "h = h0 + h1\n",
    "h[::sum, 'raw', 0, 'nom', 'nom', 'nom', 'nom', 'nom', 'nom', 'nom', :]\n"
   ]
  },
  {
   "cell_type": "code",
   "execution_count": null,
   "id": "895418ce",
   "metadata": {},
   "outputs": [],
   "source": []
  }
 ],
 "metadata": {
  "kernelspec": {
   "display_name": "Python 3",
   "language": "python",
   "name": "python3"
  },
  "language_info": {
   "codemirror_mode": {
    "name": "ipython",
    "version": 3
   },
   "file_extension": ".py",
   "mimetype": "text/x-python",
   "name": "python",
   "nbconvert_exporter": "python",
   "pygments_lexer": "ipython3",
   "version": "3.8.12"
  }
 },
 "nbformat": 4,
 "nbformat_minor": 5
}
