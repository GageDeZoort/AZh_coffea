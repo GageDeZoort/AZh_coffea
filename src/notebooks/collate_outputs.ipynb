{
 "cells": [
  {
   "cell_type": "code",
   "execution_count": null,
   "id": "43ee7ccb",
   "metadata": {},
   "outputs": [],
   "source": [
    "import os\n",
    "from os.path import join\n",
    "from coffea import util\n",
    "\n",
    "year = \"2018\"\n",
    "sample = f\"GluGluToAToZhToLLTauTauM400\"\n",
    "sample_str = f\"{sample}_{year}\"\n",
    "base = \"/eos/uscms/store/user/jdezoort/azh_output/results\"\n",
    "sample_dir = join(base, f\"{year}/{sample_str}/coffea/\")\n",
    "sample_files = os.listdir(sample_dir)\n",
    "\n",
    "h0 = util.load(join(sample_dir, sample_files[0]))['m4l'][sample]\n",
    "h1 = util.load(join(sample_dir, sample_files[1]))['m4l'][sample]\n",
    "h = h0 + h1\n",
    "h[::sum, 'cons', 0, 'nom', 'nom', 'nom', 'nom', 'nom', 'nom', 'nom', :]\n",
    "\n",
    "\n",
    "def collate_outputs(base, year, sample=\"\", \n",
    "                    hist_keys=['pt', 'mll', 'mtt', 'm4l']):\n",
    "    sample_str = f\"{sample}_{year}\"\n",
    "    sample_dir = join(base, f\"{year}/{sample_str}/coffea/\")\n",
    "    sample_files = os.listdir(sample_dir)\n",
    "    h0 = util.load(join(sample_dir, sample_files[0]))\n",
    "    hists = {k: h0[k][sample] for k in hist_keys}\n",
    "    for i in range(1, len(sample_files)):\n",
    "        hi = util.load(join(sample_dir, sample_files[0]))\n",
    "        for k in hist_keys:\n",
    "            hists[k] = hists[k] + hi[k][sample]\n",
    "    return hists \n",
    "    \n",
    "hists = collate_outputs(\n",
    "    base=\"/eos/uscms/store/user/jdezoort/azh_output/results\",\n",
    "    year = \"2018\",\n",
    "    sample = f\"GluGluToAToZhToLLTauTauM400\",\n",
    ")"
   ]
  },
  {
   "cell_type": "code",
   "execution_count": null,
   "id": "895418ce",
   "metadata": {},
   "outputs": [],
   "source": []
  }
 ],
 "metadata": {
  "kernelspec": {
   "display_name": "Python 3",
   "language": "python",
   "name": "python3"
  },
  "language_info": {
   "codemirror_mode": {
    "name": "ipython",
    "version": 3
   },
   "file_extension": ".py",
   "mimetype": "text/x-python",
   "name": "python",
   "nbconvert_exporter": "python",
   "pygments_lexer": "ipython3",
   "version": "3.8.12"
  }
 },
 "nbformat": 4,
 "nbformat_minor": 5
}
