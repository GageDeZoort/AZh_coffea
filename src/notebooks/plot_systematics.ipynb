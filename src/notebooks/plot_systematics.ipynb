{
 "cells": [
  {
   "cell_type": "code",
   "execution_count": null,
   "id": "3992cda8",
   "metadata": {},
   "outputs": [],
   "source": [
    "%load_ext autoreload\n",
    "%autoreload 2\n",
    "\n",
    "import numpy as np\n",
    "import argparse\n",
    "import logging\n",
    "import time\n",
    "from os.path import join\n",
    "import sys\n",
    "from hist.intervals import ratio_uncertainty\n",
    "sys.path.append('../')\n",
    "import warnings\n",
    "warnings.filterwarnings(\"ignore\")\n",
    "\n",
    "from coffea import processor, util"
   ]
  },
  {
   "cell_type": "code",
   "execution_count": null,
   "id": "719c87bd",
   "metadata": {},
   "outputs": [],
   "source": [
    "from collections import defaultdict\n",
    "import os\n",
    "from os.path import join\n",
    "import hist\n",
    "import mplhep as hep\n",
    "import seaborn as sns\n",
    "from coffea import util\n",
    "from matplotlib import pyplot as plt\n",
    "from cycler import cycler\n",
    "from hist import Hist\n",
    "from hist.intervals import ratio_uncertainty\n",
    "from azh_analysis.utils.plotting import plot_systematic, plot_m4l_systematic, get_category_labels, get_color_list\n",
    "import warnings\n",
    "warnings.filterwarnings('ignore')\n",
    "hep.style.use([\"CMS\", \"fira\", \"firamath\"])\n",
    "\n",
    "# systematics to plot \n",
    "k_shifts = [\"tauES\", \"efake\", \"mfake\", \"eleES\", \"eleSmear\", \"muES\", \"unclMET\"]\n",
    "e_shifts = [\"l1prefire\", \"pileup\", \"btag\"]\n",
    "\n",
    "# filename info\n",
    "year = \"2018\"\n",
    "lumis = {\"2018\": 59.7}\n",
    "source = \"MC\"\n",
    "\n",
    "# grab a specific systematic\n",
    "syst = \"pileup\"\n",
    "plot = False\n",
    "nom = util.load(f\"../output/{source}_UL_2018_None_OS.coffea\")\n",
    "if syst in k_shifts:\n",
    "    shift = util.load(f\"../output/{source}_UL_2018_{syst}_OS.coffea\")\n",
    "else:\n",
    "    shift = util.load(f\"../output/{source}_UL_2018_None_OS.coffea\")\n",
    "\n",
    "cat_labels = get_category_labels()\n",
    "colors = get_color_list()\n",
    "\n",
    "outdir = f\"../plots/systematics/{year}\""
   ]
  },
  {
   "cell_type": "code",
   "execution_count": null,
   "id": "81bba773",
   "metadata": {},
   "outputs": [],
   "source": [
    "var = \"m4l\"\n",
    "for cat, cat_label in cat_labels.items():\n",
    "    for bcat in [0]:            \n",
    "        sign = 0 # OS\n",
    "        nom_s = sum(nom[var].values())\n",
    "        shift_s = sum(shift[var].values())\n",
    "        # group, cat, sign, mass_type, btags, syst, values\n",
    "        nom_s = nom_s[::sum, 'ee'+cat, sign, :, ::sum, 'nom', :] + nom_s[::sum, 'mm'+cat, sign, :, ::sum, 'nom', :]\n",
    "        shift_up = shift_s[::sum, 'ee'+cat, sign, :, ::sum, syst+\"_up\", :] + shift_s[::sum, 'mm'+cat, sign, :, ::sum, syst+\"_up\", :]\n",
    "        shift_down = shift_s[::sum, 'ee'+cat, sign, :, ::sum, syst+\"_down\", :] + shift_s[::sum, 'mm'+cat, sign, :, ::sum, syst+\"_down\", :]\n",
    "        plot_m4l_systematic(\n",
    "            nom_s, shift_up, shift_down, \n",
    "            syst, cat_label, mass_label=r\"$m_{ll\\tau\\tau}$ [GeV]\", \n",
    "            logscale=True,\n",
    "            year=int(year), lumi = lumis[year],\n",
    "            outfile = join(outdir, f\"{source}_{cat}_{syst}_{var}.pdf\") if plot else None\n",
    "        )"
   ]
  },
  {
   "cell_type": "code",
   "execution_count": null,
   "id": "4f53c38e",
   "metadata": {},
   "outputs": [],
   "source": [
    "var = \"mtt\"\n",
    "for cat, cat_label in cat_labels.items():\n",
    "    for bcat in [0]:\n",
    "        nom_s = sum(nom[var].values())\n",
    "        nom_s = nom_s[::sum, 'ee'+cat, 0, :, ::sum, 'nom', :] + nom_s[::sum, 'mm'+cat, 0, :, ::sum, 'nom', :]\n",
    "        shift_s = sum(shift[var].values())\n",
    "        shift_up = shift_s[::sum, 'ee'+cat, 0, :, ::sum, syst+\"_up\", :] + shift_s[::sum, 'mm'+cat, 0, :, ::sum, syst+\"_up\", :]\n",
    "        shift_down = shift_s[::sum, 'ee'+cat, 0, :, ::sum, syst+\"_down\", :] + shift_s[::sum, 'mm'+cat, 0, :, ::sum, syst+\"_down\", :]\n",
    "        plot_m4l_systematic(\n",
    "            nom_s, shift_up, shift_down, \n",
    "            syst, cat_label, mass_label=r\"$m_{\\tau\\tau}$ [GeV]\",\n",
    "            year=int(year), lumi = lumis[year],\n",
    "            outfile = join(outdir, f\"{source}_{cat}_{syst}_{var}.pdf\") if plot else None\n",
    "        )"
   ]
  },
  {
   "cell_type": "code",
   "execution_count": null,
   "id": "af0083d7",
   "metadata": {},
   "outputs": [],
   "source": [
    "var = \"mll\"\n",
    "for cat, cat_label in cat_labels.items():\n",
    "    for bcat in [0]:\n",
    "        # group, cat, sign, btag, syst, vals\n",
    "        nom_s = sum(nom[var].values())\n",
    "        nom_s = nom_s[::sum, 'ee'+cat, 0, ::sum, 'nom', :] + nom_s[::sum, 'mm'+cat, 0, ::sum, 'nom', :]\n",
    "        shift_s = sum(shift[var].values())\n",
    "        shift_up = shift_s[::sum, 'ee'+cat, 0, ::sum, syst+\"_up\", :] + shift_s[::sum, 'mm'+cat, 0, ::sum, syst+\"_up\", :]\n",
    "        shift_down = shift_s[::sum, 'ee'+cat, 0, ::sum, syst+\"_down\", :] + shift_s[::sum, 'mm'+cat, 0, ::sum, syst+\"_down\", :]\n",
    "        plot_systematic(\n",
    "            nom_s, shift_up, shift_down,\n",
    "            syst, cat_label, r\"$m_{ll}$ [GeV]\", \n",
    "            year=int(year), lumi = lumis[year],\n",
    "            outfile = join(outdir, f\"{source}_{cat}_{syst}_{var}.pdf\") if plot else None\n",
    "        )"
   ]
  },
  {
   "cell_type": "code",
   "execution_count": null,
   "id": "9d64c65b",
   "metadata": {},
   "outputs": [],
   "source": [
    "var = \"pt\"\n",
    "for cat, cat_label in cat_labels.items():\n",
    "    for bcat in [0]:\n",
    "        for leg in ['3', '4']:\n",
    "            nom_s = sum(nom[var].values())\n",
    "            nom_s = nom_s[::sum, 'ee'+cat, 0, leg, ::sum, 'nom', :] + nom_s[::sum, 'mm'+cat, 0, leg, ::sum, 'nom', :]\n",
    "            shift_s = sum(shift[var].values())\n",
    "            shift_up = shift_s[::sum, 'ee'+cat, 0, leg, ::sum, syst+\"_up\", :] + shift_s[::sum, 'mm'+cat, 0, leg, ::sum, syst+\"_up\", :]\n",
    "            shift_down = shift_s[::sum, 'ee'+cat, 0, leg, ::sum, syst+\"_down\", :] + shift_s[::sum, 'mm'+cat, 0, leg, ::sum, syst+\"_down\", :]\n",
    "            plot_systematic(\n",
    "                nom_s, shift_up, shift_down, \n",
    "                syst, cat_label, f\"Leg {leg} \" + r\"$p_T$ [GeV]\",\n",
    "                year=int(year), lumi = lumis[year],\n",
    "                outfile = join(outdir, f\"{source}_{cat}_{syst}_{var}{leg}.pdf\") if plot else None\n",
    "            )"
   ]
  },
  {
   "cell_type": "code",
   "execution_count": null,
   "id": "2098ac1c",
   "metadata": {},
   "outputs": [],
   "source": [
    "var = \"met\"\n",
    "for cat, cat_label in cat_labels.items():\n",
    "    for bcat in [0]:\n",
    "        nom_s = sum(nom[var].values())\n",
    "        nom_s = nom_s[::sum, 'ee'+cat, 0, ::sum, 'nom', :] + nom_s[::sum, 'mm'+cat, 0, ::sum, 'nom', :]\n",
    "        shift_s = sum(shift[var].values())\n",
    "        shift_up = shift_s[::sum, 'ee'+cat, 0, ::sum, syst+\"_up\", :] + shift_s[::sum, 'mm'+cat, 0, ::sum, syst+\"_up\", :]\n",
    "        shift_down = shift_s[::sum, 'ee'+cat, 0, ::sum, syst+\"_down\", :] + shift_s[::sum, 'mm'+cat, 0, ::sum, syst+\"_down\", :]\n",
    "        plot_systematic(\n",
    "            nom_s, shift_up, shift_down, \n",
    "            syst, cat_label, r\"$E_T^\\mathrm{miss}$ [GeV]\",\n",
    "            year=int(year), lumi = lumis[year],\n",
    "            outfile = join(outdir, f\"{source}_{cat}_{syst}_{var}.pdf\")\n",
    "        )"
   ]
  },
  {
   "cell_type": "code",
   "execution_count": null,
   "id": "fd8a1f0a",
   "metadata": {},
   "outputs": [],
   "source": []
  },
  {
   "cell_type": "code",
   "execution_count": null,
   "id": "b3ee21d4",
   "metadata": {},
   "outputs": [],
   "source": []
  },
  {
   "cell_type": "code",
   "execution_count": null,
   "id": "b805f0c9",
   "metadata": {},
   "outputs": [],
   "source": []
  },
  {
   "cell_type": "code",
   "execution_count": null,
   "id": "ac8e9b77",
   "metadata": {},
   "outputs": [],
   "source": []
  },
  {
   "cell_type": "code",
   "execution_count": null,
   "id": "1a5b3084",
   "metadata": {},
   "outputs": [],
   "source": []
  }
 ],
 "metadata": {
  "kernelspec": {
   "display_name": "Python 3",
   "language": "python",
   "name": "python3"
  },
  "language_info": {
   "codemirror_mode": {
    "name": "ipython",
    "version": 3
   },
   "file_extension": ".py",
   "mimetype": "text/x-python",
   "name": "python",
   "nbconvert_exporter": "python",
   "pygments_lexer": "ipython3",
   "version": "3.8.16"
  }
 },
 "nbformat": 4,
 "nbformat_minor": 5
}
